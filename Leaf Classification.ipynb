{
 "cells": [
  {
   "cell_type": "code",
   "execution_count": 26,
   "id": "a9fe64d4",
   "metadata": {},
   "outputs": [],
   "source": [
    "import keras\n",
    "from keras.models import Sequential\n",
    "from keras.layers import Dense, Dropout, Flatten\n",
    "from keras.layers import Conv2D, MaxPooling2D\n",
    "from keras.layers.core import Dropout\n",
    "from keras import regularizers\n"
   ]
  },
  {
   "cell_type": "code",
   "execution_count": 15,
   "id": "87065600",
   "metadata": {},
   "outputs": [],
   "source": [
    "from tensorflow.keras.utils import to_categorical\n",
    "from keras.preprocessing import image\n",
    "import numpy as np\n",
    "import pandas as pd\n",
    "import matplotlib.pyplot as plt\n",
    "from sklearn.model_selection import train_test_split"
   ]
  },
  {
   "cell_type": "code",
   "execution_count": 16,
   "id": "7219eb26",
   "metadata": {},
   "outputs": [],
   "source": [
    "from tqdm import tqdm"
   ]
  },
  {
   "cell_type": "code",
   "execution_count": 17,
   "id": "9229a0e5",
   "metadata": {},
   "outputs": [],
   "source": [
    "train = pd.read_csv('data/train/train.csv')\n",
    "test = pd.read_csv('data/test/test.csv')"
   ]
  },
  {
   "cell_type": "code",
   "execution_count": 18,
   "id": "7e1f5b5c",
   "metadata": {},
   "outputs": [
    {
     "name": "stderr",
     "output_type": "stream",
     "text": [
      "100%|████████████████████████████████████████| 644/644 [00:01<00:00, 523.16it/s]\n"
     ]
    }
   ],
   "source": [
    "train_image = []\n",
    "for i in tqdm(range(train.shape[0])):\n",
    "    img = image.load_img('data/train/train images/'+train['image'][i],target_size=(28,28,1), grayscale=True)\n",
    "    img = image.img_to_array(img)\n",
    "    img = img/255\n",
    "    train_image.append(img)\n",
    "X = np.array(train_image)"
   ]
  },
  {
   "cell_type": "code",
   "execution_count": 27,
   "id": "ce31c39a",
   "metadata": {},
   "outputs": [],
   "source": [
    "y=train['label'].values\n",
    "y = to_categorical(y)"
   ]
  },
  {
   "cell_type": "code",
   "execution_count": 29,
   "id": "271d8415",
   "metadata": {},
   "outputs": [
    {
     "data": {
      "text/plain": [
       "515"
      ]
     },
     "execution_count": 29,
     "metadata": {},
     "output_type": "execute_result"
    }
   ],
   "source": [
    "X_train, X_test, y_train, y_test = train_test_split(X, y, random_state=42, test_size=0.2)\n",
    "len(X_train)"
   ]
  },
  {
   "cell_type": "code",
   "execution_count": 21,
   "id": "99448894",
   "metadata": {},
   "outputs": [],
   "source": [
    "model = Sequential()\n",
    "model.add(Conv2D(32, kernel_size=(3, 3),activation='relu',kernel_regularizer=regularizers.l2(0.01),input_shape=(28,28,1)))\n",
    "model.add(Conv2D(64, (3, 3), activation='relu',kernel_regularizer=regularizers.l2(0.01)))\n",
    "model.add(MaxPooling2D(pool_size=(2, 2)))\n",
    "model.add(Dropout(0.25))\n",
    "model.add(Flatten())\n",
    "model.add(Dense(128, activation='relu',kernel_regularizer=regularizers.l2(0.01)))\n",
    "model.add(Dropout(0.5))\n",
    "model.add(Dense(2, activation='softmax'))"
   ]
  },
  {
   "cell_type": "code",
   "execution_count": 9,
   "id": "3ece0788",
   "metadata": {},
   "outputs": [
    {
     "name": "stdout",
     "output_type": "stream",
     "text": [
      "Model: \"sequential\"\n",
      "_________________________________________________________________\n",
      "Layer (type)                 Output Shape              Param #   \n",
      "=================================================================\n",
      "conv2d (Conv2D)              (None, 26, 26, 32)        320       \n",
      "_________________________________________________________________\n",
      "conv2d_1 (Conv2D)            (None, 24, 24, 64)        18496     \n",
      "_________________________________________________________________\n",
      "max_pooling2d (MaxPooling2D) (None, 12, 12, 64)        0         \n",
      "_________________________________________________________________\n",
      "dropout (Dropout)            (None, 12, 12, 64)        0         \n",
      "_________________________________________________________________\n",
      "flatten (Flatten)            (None, 9216)              0         \n",
      "_________________________________________________________________\n",
      "dense (Dense)                (None, 128)               1179776   \n",
      "_________________________________________________________________\n",
      "dropout_1 (Dropout)          (None, 128)               0         \n",
      "_________________________________________________________________\n",
      "dense_1 (Dense)              (None, 2)                 258       \n",
      "=================================================================\n",
      "Total params: 1,198,850\n",
      "Trainable params: 1,198,850\n",
      "Non-trainable params: 0\n",
      "_________________________________________________________________\n"
     ]
    }
   ],
   "source": [
    "model.summary()"
   ]
  },
  {
   "cell_type": "code",
   "execution_count": 22,
   "id": "d90ce1c9",
   "metadata": {},
   "outputs": [],
   "source": [
    "model.compile(loss='categorical_crossentropy',optimizer='Adam',metrics=['accuracy'])"
   ]
  },
  {
   "cell_type": "code",
   "execution_count": 32,
   "id": "182dd156",
   "metadata": {
    "scrolled": true
   },
   "outputs": [
    {
     "name": "stdout",
     "output_type": "stream",
     "text": [
      "Epoch 1/5\n",
      "51/51 [==============================] - 2s 30ms/step - loss: 0.5169 - accuracy: 0.8122 - val_loss: 0.5873 - val_accuracy: 0.7364\n",
      "Epoch 2/5\n",
      "51/51 [==============================] - 2s 30ms/step - loss: 0.5346 - accuracy: 0.7871 - val_loss: 0.5343 - val_accuracy: 0.7674\n",
      "Epoch 3/5\n",
      "51/51 [==============================] - 2s 30ms/step - loss: 0.5007 - accuracy: 0.7961 - val_loss: 0.5449 - val_accuracy: 0.7597\n",
      "Epoch 4/5\n",
      "51/51 [==============================] - 2s 31ms/step - loss: 0.5067 - accuracy: 0.7871 - val_loss: 0.5501 - val_accuracy: 0.7597\n",
      "Epoch 5/5\n",
      "31/51 [=================>............] - ETA: 0s - loss: 0.4917 - accuracy: 0.8260WARNING:tensorflow:Your input ran out of data; interrupting training. Make sure that your dataset or generator can generate at least `steps_per_epoch * epochs` batches (in this case, 255 batches). You may need to use the repeat() function when building your dataset.\n",
      "51/51 [==============================] - 1s 20ms/step - loss: 0.4917 - accuracy: 0.8260 - val_loss: 0.5687 - val_accuracy: 0.7442\n"
     ]
    }
   ],
   "source": [
    "history = model.fit(\n",
    "    X_train, y_train,\n",
    "    validation_data=(X_test, y_test),\n",
    "    steps_per_epoch=len(X_train) // 10,\n",
    "    epochs=5, verbose=1\n",
    "    )"
   ]
  },
  {
   "cell_type": "code",
   "execution_count": 24,
   "id": "2f0bfc43",
   "metadata": {},
   "outputs": [
    {
     "data": {
      "image/png": "[encoded data removed]",
      "text/plain": [
       "<Figure size 432x288 with 1 Axes>"
      ]
     },
     "metadata": {
      "needs_background": "light"
     },
     "output_type": "display_data"
    },
    {
     "data": {
      "image/png": "[encoded data removed]",
      "text/plain": [
       "<Figure size 432x288 with 1 Axes>"
      ]
     },
     "metadata": {
      "needs_background": "light"
     },
     "output_type": "display_data"
    }
   ],
   "source": [
    "acc = history.history['accuracy']\n",
    "val_acc = history.history['val_accuracy']\n",
    "loss = history.history['loss']\n",
    "val_loss = history.history['val_loss']\n",
    "epochs = range(1, len(acc) + 1)\n",
    "#Train and validation accuracy\n",
    "plt.plot(epochs, acc, 'b', label='Training accurarcy')\n",
    "plt.plot(epochs, val_acc, 'r', label='Validation accurarcy')\n",
    "plt.title('Training and Validation accurarcy')\n",
    "plt.legend()\n",
    "\n",
    "plt.figure()\n",
    "#Train and validation loss\n",
    "plt.plot(epochs, loss, 'b', label='Training loss')\n",
    "plt.plot(epochs, val_loss, 'r', label='Validation loss')\n",
    "plt.title('Training and Validation loss')\n",
    "plt.legend()\n",
    "plt.show()"
   ]
  },
  {
   "cell_type": "code",
   "execution_count": 25,
   "id": "e07e10a0",
   "metadata": {},
   "outputs": [
    {
     "name": "stdout",
     "output_type": "stream",
     "text": [
      "[INFO] Calculating model accuracy\n",
      "5/5 [==============================] - 0s 12ms/step - loss: 0.5904 - accuracy: 0.7287\n",
      "Test Accuracy: 72.86821603775024\n"
     ]
    }
   ],
   "source": [
    "print(\"[INFO] Calculating model accuracy\")\n",
    "scores = model.evaluate(X_test, y_test)\n",
    "print(f\"Test Accuracy: {scores[1]*100}\")"
   ]
  },
  {
   "cell_type": "code",
   "execution_count": 15,
   "id": "b411d89f",
   "metadata": {},
   "outputs": [],
   "source": [
    "from sklearn.metrics import confusion_matrix as cm, classification_report as cr"
   ]
  },
  {
   "cell_type": "code",
   "execution_count": 16,
   "id": "fcaaacdf",
   "metadata": {},
   "outputs": [],
   "source": [
    "ypred = model.predict(X_test)"
   ]
  },
  {
   "cell_type": "code",
   "execution_count": 23,
   "id": "2d6f88d9",
   "metadata": {},
   "outputs": [
    {
     "data": {
      "text/plain": [
       "array([[1.42354390e-03, 9.98576403e-01],\n",
       "       [2.98539791e-02, 9.70146000e-01],\n",
       "       [3.34107966e-07, 9.99999642e-01],\n",
       "       [9.93338227e-01, 6.66185049e-03],\n",
       "       [5.26195066e-03, 9.94738042e-01],\n",
       "       [1.09248105e-02, 9.89075184e-01],\n",
       "       [3.83738021e-04, 9.99616265e-01],\n",
       "       [9.96525228e-01, 3.47470865e-03],\n",
       "       [1.14410054e-02, 9.88559008e-01],\n",
       "       [9.89673734e-01, 1.03262765e-02],\n",
       "       [2.12677687e-01, 7.87322283e-01],\n",
       "       [1.00000000e+00, 4.20492370e-08],\n",
       "       [9.80474472e-01, 1.95255969e-02],\n",
       "       [1.91341009e-04, 9.99808729e-01],\n",
       "       [9.99820054e-01, 1.79954717e-04],\n",
       "       [3.41241956e-02, 9.65875804e-01],\n",
       "       [9.23467219e-01, 7.65327513e-02],\n",
       "       [5.45107424e-01, 4.54892546e-01],\n",
       "       [1.23253107e-04, 9.99876738e-01],\n",
       "       [1.08369760e-01, 8.91630232e-01],\n",
       "       [9.94987607e-01, 5.01244096e-03],\n",
       "       [1.93885453e-02, 9.80611444e-01],\n",
       "       [1.62203401e-01, 8.37796628e-01],\n",
       "       [2.18239450e-03, 9.97817636e-01],\n",
       "       [9.90088374e-05, 9.99900937e-01],\n",
       "       [8.75947364e-07, 9.99999166e-01],\n",
       "       [5.45697585e-05, 9.99945402e-01],\n",
       "       [1.11580994e-02, 9.88841891e-01],\n",
       "       [1.49411534e-07, 9.99999881e-01],\n",
       "       [3.32593299e-05, 9.99966741e-01],\n",
       "       [1.36983665e-02, 9.86301661e-01],\n",
       "       [1.41717881e-01, 8.58282208e-01],\n",
       "       [9.91781771e-01, 8.21820833e-03],\n",
       "       [6.17201859e-03, 9.93827999e-01],\n",
       "       [7.87642691e-03, 9.92123544e-01],\n",
       "       [9.73025918e-01, 2.69740727e-02],\n",
       "       [9.97679770e-01, 2.32029776e-03],\n",
       "       [3.56320627e-02, 9.64367986e-01],\n",
       "       [9.99418378e-01, 5.81586733e-04],\n",
       "       [3.29746632e-04, 9.99670267e-01],\n",
       "       [9.98028696e-01, 1.97128300e-03],\n",
       "       [6.70475129e-04, 9.99329567e-01],\n",
       "       [2.56877020e-02, 9.74312305e-01],\n",
       "       [1.52205337e-06, 9.99998450e-01],\n",
       "       [4.08342183e-01, 5.91657877e-01],\n",
       "       [3.20164225e-04, 9.99679804e-01],\n",
       "       [4.11657384e-05, 9.99958873e-01],\n",
       "       [1.42498314e-01, 8.57501686e-01],\n",
       "       [9.99999166e-01, 7.95489200e-07],\n",
       "       [8.76393344e-04, 9.99123633e-01],\n",
       "       [2.37597178e-05, 9.99976277e-01],\n",
       "       [3.35156119e-06, 9.99996662e-01],\n",
       "       [9.35552584e-04, 9.99064505e-01],\n",
       "       [9.98141885e-01, 1.85809343e-03],\n",
       "       [3.31260785e-02, 9.66873944e-01],\n",
       "       [6.22149457e-07, 9.99999404e-01],\n",
       "       [5.43621881e-03, 9.94563758e-01],\n",
       "       [9.16805685e-01, 8.31943080e-02],\n",
       "       [9.99947071e-01, 5.29344106e-05],\n",
       "       [9.70231414e-01, 2.97685619e-02],\n",
       "       [1.01424979e-04, 9.99898553e-01],\n",
       "       [9.99844790e-01, 1.55141897e-04],\n",
       "       [9.99970555e-01, 2.94477886e-05],\n",
       "       [9.99925971e-01, 7.40520918e-05],\n",
       "       [1.00000000e+00, 4.08260092e-08],\n",
       "       [9.78279054e-01, 2.17208918e-02],\n",
       "       [2.43245391e-04, 9.99756753e-01],\n",
       "       [4.87216681e-01, 5.12783229e-01],\n",
       "       [9.99871731e-01, 1.28209867e-04],\n",
       "       [3.70897911e-02, 9.62910235e-01],\n",
       "       [6.39587790e-02, 9.36041236e-01],\n",
       "       [8.91934360e-06, 9.99991059e-01],\n",
       "       [6.43397755e-07, 9.99999404e-01],\n",
       "       [2.89121544e-05, 9.99971032e-01],\n",
       "       [9.66346204e-01, 3.36538181e-02],\n",
       "       [3.39318300e-04, 9.99660730e-01],\n",
       "       [3.76740694e-02, 9.62325990e-01],\n",
       "       [1.28450338e-02, 9.87154961e-01],\n",
       "       [1.35399789e-01, 8.64600182e-01],\n",
       "       [9.19227004e-01, 8.07729736e-02],\n",
       "       [1.30357891e-02, 9.86964285e-01],\n",
       "       [9.99130428e-01, 8.69538926e-04],\n",
       "       [9.99768317e-01, 2.31709841e-04],\n",
       "       [1.24806553e-04, 9.99875188e-01],\n",
       "       [6.08575404e-01, 3.91424596e-01],\n",
       "       [1.29928775e-02, 9.87007141e-01],\n",
       "       [1.48809247e-03, 9.98511851e-01],\n",
       "       [7.99623504e-02, 9.20037627e-01],\n",
       "       [1.74820982e-02, 9.82517898e-01],\n",
       "       [1.83523539e-02, 9.81647611e-01],\n",
       "       [2.07029462e-01, 7.92970538e-01],\n",
       "       [3.63429979e-04, 9.99636531e-01],\n",
       "       [4.68561705e-03, 9.95314360e-01],\n",
       "       [9.99813259e-01, 1.86769394e-04],\n",
       "       [8.79698018e-06, 9.99991179e-01],\n",
       "       [6.14415214e-04, 9.99385595e-01],\n",
       "       [1.74696192e-01, 8.25303793e-01],\n",
       "       [6.67776406e-01, 3.32223594e-01],\n",
       "       [1.83229987e-02, 9.81677055e-01],\n",
       "       [1.66755155e-04, 9.99833226e-01],\n",
       "       [9.76134717e-01, 2.38653254e-02],\n",
       "       [1.34341642e-01, 8.65658402e-01],\n",
       "       [3.46412003e-01, 6.53587937e-01],\n",
       "       [9.99981880e-01, 1.81712930e-05],\n",
       "       [4.76378062e-07, 9.99999523e-01],\n",
       "       [2.46853501e-01, 7.53146470e-01],\n",
       "       [2.82195341e-02, 9.71780419e-01],\n",
       "       [1.34202302e-03, 9.98657942e-01],\n",
       "       [1.38785383e-08, 1.00000000e+00],\n",
       "       [7.02247443e-03, 9.92977560e-01],\n",
       "       [5.25759151e-06, 9.99994755e-01],\n",
       "       [3.37583973e-04, 9.99662399e-01],\n",
       "       [2.10013181e-01, 7.89986849e-01],\n",
       "       [7.08402872e-01, 2.91597128e-01],\n",
       "       [9.97494578e-01, 2.50545517e-03],\n",
       "       [1.00000000e+00, 3.67037103e-08],\n",
       "       [9.98346448e-01, 1.65357697e-03],\n",
       "       [1.48382115e-08, 1.00000000e+00],\n",
       "       [8.26193765e-03, 9.91738021e-01],\n",
       "       [5.40651567e-02, 9.45934832e-01],\n",
       "       [9.99289513e-01, 7.10406282e-04],\n",
       "       [7.70357624e-02, 9.22964275e-01],\n",
       "       [9.43281949e-01, 5.67180961e-02],\n",
       "       [9.99756038e-01, 2.43918184e-04],\n",
       "       [8.10506269e-02, 9.18949366e-01],\n",
       "       [1.47639395e-04, 9.99852300e-01],\n",
       "       [1.00000000e+00, 1.04114504e-08],\n",
       "       [1.67248691e-05, 9.99983311e-01],\n",
       "       [4.73643467e-03, 9.95263577e-01]], dtype=float32)"
      ]
     },
     "execution_count": 23,
     "metadata": {},
     "output_type": "execute_result"
    }
   ],
   "source": [
    "ypred"
   ]
  },
  {
   "cell_type": "code",
   "execution_count": 24,
   "id": "2558e697",
   "metadata": {},
   "outputs": [],
   "source": [
    "yp=np.argmax(ypred,axis=1)\n",
    "yt=np.argmax(ypred,axis=1)"
   ]
  },
  {
   "cell_type": "code",
   "execution_count": 25,
   "id": "fd05e329",
   "metadata": {},
   "outputs": [
    {
     "data": {
      "text/plain": [
       "array([1, 1, 1, 0, 1, 1, 1, 0, 1, 0, 1, 0, 0, 1, 0, 1, 0, 0, 1, 1, 0, 1,\n",
       "       1, 1, 1, 1, 1, 1, 1, 1, 1, 1, 0, 1, 1, 0, 0, 1, 0, 1, 0, 1, 1, 1,\n",
       "       1, 1, 1, 1, 0, 1, 1, 1, 1, 0, 1, 1, 1, 0, 0, 0, 1, 0, 0, 0, 0, 0,\n",
       "       1, 1, 0, 1, 1, 1, 1, 1, 0, 1, 1, 1, 1, 0, 1, 0, 0, 1, 0, 1, 1, 1,\n",
       "       1, 1, 1, 1, 1, 0, 1, 1, 1, 0, 1, 1, 0, 1, 1, 0, 1, 1, 1, 1, 1, 1,\n",
       "       1, 1, 1, 0, 0, 0, 0, 1, 1, 1, 0, 1, 0, 0, 1, 1, 0, 1, 1])"
      ]
     },
     "execution_count": 25,
     "metadata": {},
     "output_type": "execute_result"
    }
   ],
   "source": [
    "yp"
   ]
  },
  {
   "cell_type": "code",
   "execution_count": 26,
   "id": "17fe0271",
   "metadata": {},
   "outputs": [
    {
     "data": {
      "text/plain": [
       "array([[42,  0],\n",
       "       [ 0, 87]])"
      ]
     },
     "execution_count": 26,
     "metadata": {},
     "output_type": "execute_result"
    }
   ],
   "source": [
    "cm(yt, yp)"
   ]
  },
  {
   "cell_type": "code",
   "execution_count": 27,
   "id": "f42bc4a4",
   "metadata": {
    "scrolled": true
   },
   "outputs": [
    {
     "name": "stderr",
     "output_type": "stream",
     "text": [
      "  0%|          | 0/83 [00:00<?, ?it/s]/opt/anaconda3/envs/Tensorflow/lib/python3.8/site-packages/keras_preprocessing/image/utils.py:107: UserWarning: grayscale is deprecated. Please use color_mode = \"grayscale\"\n",
      "  warnings.warn('grayscale is deprecated. Please use '\n",
      "100%|██████████| 83/83 [00:00<00:00, 379.46it/s]\n"
     ]
    }
   ],
   "source": [
    "test_image = []\n",
    "for i in tqdm(range(test.shape[0])):\n",
    "    img = image.load_img('data/test/test images/'+test['image'][i], target_size=(28,28,1), grayscale=True)\n",
    "    img = image.img_to_array(img)\n",
    "    img = img/255\n",
    "    test_image.append(img)\n",
    "test = np.array(test_image)"
   ]
  },
  {
   "cell_type": "code",
   "execution_count": 28,
   "id": "149f6ebf",
   "metadata": {},
   "outputs": [],
   "source": [
    "prediction = model.predict(test)"
   ]
  },
  {
   "cell_type": "code",
   "execution_count": 29,
   "id": "aac361a7",
   "metadata": {},
   "outputs": [],
   "source": [
    "pred = np.argmax(prediction,axis=1)"
   ]
  },
  {
   "cell_type": "code",
   "execution_count": 30,
   "id": "86d99232",
   "metadata": {},
   "outputs": [
    {
     "data": {
      "text/plain": [
       "array([1, 1, 0, 0, 0, 1, 0, 1, 0, 0, 1, 1, 0, 1, 1, 0, 1, 0, 0, 0, 0, 1,\n",
       "       0, 0, 0, 1, 0, 1, 1, 0, 0, 0, 0, 1, 0, 1, 1, 0, 0, 0, 0, 0, 1, 0,\n",
       "       0, 0, 0, 0, 1, 0, 1, 0, 1, 1, 1, 1, 1, 1, 1, 1, 1, 1, 1, 1, 1, 1,\n",
       "       1, 1, 0, 0, 1, 0, 1, 1, 1, 1, 0, 1, 0, 1, 1, 1, 1])"
      ]
     },
     "execution_count": 30,
     "metadata": {},
     "output_type": "execute_result"
    }
   ],
   "source": [
    "pred"
   ]
  },
  {
   "cell_type": "code",
   "execution_count": 24,
   "id": "58f35360",
   "metadata": {},
   "outputs": [],
   "source": [
    "import seaborn as sns"
   ]
  },
  {
   "cell_type": "code",
   "execution_count": 69,
   "id": "a0542406",
   "metadata": {},
   "outputs": [],
   "source": [
    "import "
   ]
  },
  {
   "cell_type": "code",
   "execution_count": 72,
   "id": "b7dd360f",
   "metadata": {},
   "outputs": [
    {
     "name": "stdout",
     "output_type": "stream",
     "text": [
      "[INFO] Saving model...\n",
      "[INFO] Saved model...\n"
     ]
    }
   ],
   "source": [
    "print(\"[INFO] Saving model...\")\n",
    "model.save('cnn_model.h5')\n",
    "print(\"[INFO] Saved model...\")"
   ]
  },
  {
   "cell_type": "code",
   "execution_count": 75,
   "id": "348b75f6",
   "metadata": {},
   "outputs": [],
   "source": [
    "from keras.models import load_model"
   ]
  },
  {
   "cell_type": "code",
   "execution_count": 76,
   "id": "c6aaf8a4",
   "metadata": {},
   "outputs": [],
   "source": [
    "mod = load_model('cnn_model.h5')"
   ]
  },
  {
   "cell_type": "code",
   "execution_count": 80,
   "id": "16bc4bb1",
   "metadata": {},
   "outputs": [
    {
     "data": {
      "text/plain": [
       "array([1, 1, 0, 0, 0, 1, 0, 1, 1, 1, 0, 1, 1, 0, 0, 0, 0, 0, 1, 0, 0, 0,\n",
       "       0, 0, 0, 1, 0, 1, 0, 0, 0, 0, 1, 0, 0, 1, 1, 1, 0, 0, 0, 1, 1, 1,\n",
       "       0, 0, 0, 0, 0, 0, 1, 1, 1, 1, 1, 1, 1, 0, 0, 1, 1, 1, 1, 1, 1, 0,\n",
       "       0, 1, 0, 0, 1, 0, 0, 0, 1, 1, 0, 1, 1, 1, 1, 0, 1], dtype=int64)"
      ]
     },
     "execution_count": 80,
     "metadata": {},
     "output_type": "execute_result"
    }
   ],
   "source": [
    "np.argmax(mod.predict(test), axis=1)"
   ]
  },
  {
   "cell_type": "code",
   "execution_count": 82,
   "id": "1a3dd55c",
   "metadata": {},
   "outputs": [],
   "source": [
    "import tensorflow as tf"
   ]
  },
  {
   "cell_type": "code",
   "execution_count": 83,
   "id": "81f31c0d",
   "metadata": {},
   "outputs": [
    {
     "data": {
      "text/plain": [
       "'2.6.0'"
      ]
     },
     "execution_count": 83,
     "metadata": {},
     "output_type": "execute_result"
    }
   ],
   "source": [
    "tf.__version__"
   ]
  },
  {
   "cell_type": "code",
   "execution_count": 84,
   "id": "81a2702e",
   "metadata": {},
   "outputs": [
    {
     "data": {
      "text/plain": [
       "'2.6.0'"
      ]
     },
     "execution_count": 84,
     "metadata": {},
     "output_type": "execute_result"
    }
   ],
   "source": [
    "keras.__version__"
   ]
  },
  {
   "cell_type": "code",
   "execution_count": 85,
   "id": "7c642e66",
   "metadata": {},
   "outputs": [],
   "source": [
    "import json"
   ]
  },
  {
   "cell_type": "code",
   "execution_count": 86,
   "id": "60b05e21",
   "metadata": {},
   "outputs": [
    {
     "data": {
      "text/plain": [
       "'2.0.9'"
      ]
     },
     "execution_count": 86,
     "metadata": {},
     "output_type": "execute_result"
    }
   ],
   "source": [
    "json.__version__"
   ]
  },
  {
   "cell_type": "code",
   "execution_count": null,
   "id": "6f18df40",
   "metadata": {},
   "outputs": [],
   "source": []
  }
 ],
 "metadata": {
  "kernelspec": {
   "display_name": "Python 3 (ipykernel)",
   "language": "python",
   "name": "python3"
  },
  "language_info": {
   "codemirror_mode": {
    "name": "ipython",
    "version": 3
   },
   "file_extension": ".py",
   "mimetype": "text/x-python",
   "name": "python",
   "nbconvert_exporter": "python",
   "pygments_lexer": "ipython3",
   "version": "3.8.12"
  }
 },
 "nbformat": 4,
 "nbformat_minor": 5
}
